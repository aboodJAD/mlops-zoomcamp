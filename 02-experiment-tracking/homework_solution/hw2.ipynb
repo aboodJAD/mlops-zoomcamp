{
 "cells": [
  {
   "cell_type": "code",
   "execution_count": 1,
   "id": "78d007be",
   "metadata": {},
   "outputs": [
    {
     "name": "stdout",
     "output_type": "stream",
     "text": [
      "Requirement already satisfied: pyarrow in /home/abdalrhman/Work/mlops-zoomcamp/mlops-zoomcamp/venv/lib/python3.7/site-packages (8.0.0)\n",
      "Requirement already satisfied: numpy>=1.16.6 in /home/abdalrhman/Work/mlops-zoomcamp/mlops-zoomcamp/venv/lib/python3.7/site-packages (from pyarrow) (1.21.6)\n",
      "Requirement already satisfied: scikit-learn in /home/abdalrhman/Work/mlops-zoomcamp/mlops-zoomcamp/venv/lib/python3.7/site-packages (1.0.2)\n",
      "Requirement already satisfied: threadpoolctl>=2.0.0 in /home/abdalrhman/Work/mlops-zoomcamp/mlops-zoomcamp/venv/lib/python3.7/site-packages (from scikit-learn) (3.1.0)\n",
      "Requirement already satisfied: joblib>=0.11 in /home/abdalrhman/anaconda3/lib/python3.7/site-packages (from scikit-learn) (0.13.2)\n",
      "Requirement already satisfied: numpy>=1.14.6 in /home/abdalrhman/Work/mlops-zoomcamp/mlops-zoomcamp/venv/lib/python3.7/site-packages (from scikit-learn) (1.21.6)\n",
      "Requirement already satisfied: scipy>=1.1.0 in /home/abdalrhman/anaconda3/lib/python3.7/site-packages (from scikit-learn) (1.3.0)\n"
     ]
    }
   ],
   "source": [
    "!pip install pyarrow\n",
    "!pip install --upgrade scikit-learn"
   ]
  },
  {
   "cell_type": "code",
   "execution_count": 64,
   "id": "e50a1948",
   "metadata": {},
   "outputs": [],
   "source": [
    "import pandas as pd\n",
    "from sklearn.feature_extraction import DictVectorizer\n",
    "from sklearn.linear_model import LinearRegression\n",
    "from sklearn.metrics import mean_squared_error\n",
    "# q1: 1154112\n",
    "# q2: 19:10\n",
    "# q3: 83%\n",
    "# q4: 525\n",
    "# q5: "
   ]
  },
  {
   "cell_type": "code",
   "execution_count": 65,
   "id": "ecb92422",
   "metadata": {},
   "outputs": [],
   "source": [
    "filepaths = {\n",
    "    \"jan\": \"./data/fhv_tripdata_2021-01.parquet\",\n",
    "    \"feb\": \"./data/fhv_tripdata_2021-02.parquet\",\n",
    "}"
   ]
  },
  {
   "cell_type": "code",
   "execution_count": 66,
   "id": "576930e2",
   "metadata": {},
   "outputs": [
    {
     "name": "stdout",
     "output_type": "stream",
     "text": [
      "(1154112, 7)\n"
     ]
    }
   ],
   "source": [
    "jan_data = pd.read_parquet(filepaths[\"jan\"])\n",
    "print(jan_data.shape)"
   ]
  },
  {
   "cell_type": "code",
   "execution_count": 67,
   "id": "f2af085c",
   "metadata": {},
   "outputs": [
    {
     "data": {
      "text/plain": [
       "Index(['dispatching_base_num', 'pickup_datetime', 'dropOff_datetime',\n",
       "       'PUlocationID', 'DOlocationID', 'SR_Flag', 'Affiliated_base_number'],\n",
       "      dtype='object')"
      ]
     },
     "execution_count": 67,
     "metadata": {},
     "output_type": "execute_result"
    }
   ],
   "source": [
    "jan_data.columns"
   ]
  },
  {
   "cell_type": "code",
   "execution_count": 68,
   "id": "183162aa",
   "metadata": {},
   "outputs": [],
   "source": [
    "jan_data[\"duration\"] = jan_data[\"dropOff_datetime\"] - jan_data[\"pickup_datetime\"]\n",
    "jan_data[\"duration\"] = jan_data[\"duration\"].dt.total_seconds()/60"
   ]
  },
  {
   "cell_type": "code",
   "execution_count": 69,
   "id": "db1f8162",
   "metadata": {},
   "outputs": [
    {
     "data": {
      "text/plain": [
       "19.1672240937939"
      ]
     },
     "execution_count": 69,
     "metadata": {},
     "output_type": "execute_result"
    }
   ],
   "source": [
    "jan_data[\"duration\"].mean()"
   ]
  },
  {
   "cell_type": "code",
   "execution_count": null,
   "id": "3f989c27",
   "metadata": {},
   "outputs": [],
   "source": []
  },
  {
   "cell_type": "code",
   "execution_count": 70,
   "id": "29a32bde",
   "metadata": {},
   "outputs": [
    {
     "name": "stdout",
     "output_type": "stream",
     "text": [
      "pu na fraction =  0.8303067639882438\n"
     ]
    }
   ],
   "source": [
    "pu_count_na = jan_data[\"PUlocationID\"].isna().sum()\n",
    "print(\"pu na fraction = \", pu_count_na/jan_data.shape[0])"
   ]
  },
  {
   "cell_type": "code",
   "execution_count": 71,
   "id": "c96e4960",
   "metadata": {},
   "outputs": [],
   "source": [
    "def prepare_data(data_df):\n",
    "    data_df = data_df[(data_df[\"duration\"] >= 1) & (data_df[\"duration\"] <= 60)].copy()\n",
    "    data_df[\"PUlocationID\"] = data_df[\"PUlocationID\"].fillna(\"-1\")\n",
    "    data_df[\"DOlocationID\"] = data_df[\"DOlocationID\"].fillna(\"-1\")\n",
    "    data_df = data_df.astype({\"PUlocationID\": int, \"DOlocationID\": int})\n",
    "    data_df = data_df.astype({\"PUlocationID\": str, \"DOlocationID\": str})\n",
    "    features_df = data_df[[\"PUlocationID\", \"DOlocationID\"]].copy()\n",
    "    y_data = data_df[\"duration\"].to_numpy()\n",
    "    features = features_df.to_dict(orient=\"records\")\n",
    "    return features, y_data"
   ]
  },
  {
   "cell_type": "code",
   "execution_count": 72,
   "id": "516b7ff7",
   "metadata": {},
   "outputs": [],
   "source": [
    "features, y_data = prepare_data(jan_data)"
   ]
  },
  {
   "cell_type": "code",
   "execution_count": 73,
   "id": "654b0b8a",
   "metadata": {},
   "outputs": [],
   "source": [
    "vectorizer = DictVectorizer(sparse=True)\n",
    "x_data = vectorizer.fit_transform(features)"
   ]
  },
  {
   "cell_type": "code",
   "execution_count": 74,
   "id": "39d045e9",
   "metadata": {},
   "outputs": [
    {
     "name": "stdout",
     "output_type": "stream",
     "text": [
      "(1109826, 525)\n",
      "(1109826,)\n",
      "[{'PUlocationID': '-1', 'DOlocationID': '-1'}, {'PUlocationID': '-1', 'DOlocationID': '-1'}, {'PUlocationID': '-1', 'DOlocationID': '72'}, {'PUlocationID': '-1', 'DOlocationID': '61'}, {'PUlocationID': '-1', 'DOlocationID': '71'}, {'PUlocationID': '-1', 'DOlocationID': '91'}, {'PUlocationID': '-1', 'DOlocationID': '39'}, {'PUlocationID': '-1', 'DOlocationID': '37'}, {'PUlocationID': '-1', 'DOlocationID': '39'}, {'PUlocationID': '-1', 'DOlocationID': '72'}]\n",
      "[17.         17.          8.28333333 15.21666667  9.05       11.86666667\n",
      "  8.88333333 17.96666667 23.36666667  2.03333333]\n"
     ]
    }
   ],
   "source": [
    "print(x_data.shape)\n",
    "print(y_data.shape)\n",
    "print(features[:10])\n",
    "print(y_data[:10])"
   ]
  },
  {
   "cell_type": "code",
   "execution_count": 75,
   "id": "6b6b08b4",
   "metadata": {},
   "outputs": [],
   "source": [
    "reg = LinearRegression().fit(x_data, y_data)"
   ]
  },
  {
   "cell_type": "code",
   "execution_count": 77,
   "id": "3d1b716e",
   "metadata": {},
   "outputs": [
    {
     "name": "stdout",
     "output_type": "stream",
     "text": [
      "RMSE train = 10.52851910722048\n"
     ]
    }
   ],
   "source": [
    "y_train_pred = reg.predict(x_data)\n",
    "print(\"RMSE train =\", mean_squared_error(y_data, y_train_pred, squared=False))"
   ]
  },
  {
   "cell_type": "code",
   "execution_count": 78,
   "id": "52380867",
   "metadata": {},
   "outputs": [],
   "source": [
    "feb_data = pd.read_parquet(filepaths[\"feb\"])\n",
    "feb_data[\"duration\"] = feb_data[\"dropOff_datetime\"] - feb_data[\"pickup_datetime\"]\n",
    "feb_data[\"duration\"] = feb_data[\"duration\"].dt.total_seconds()/60"
   ]
  },
  {
   "cell_type": "code",
   "execution_count": 79,
   "id": "ca17f4c8",
   "metadata": {},
   "outputs": [],
   "source": [
    "val_features, y_val_data = prepare_data(feb_data)"
   ]
  },
  {
   "cell_type": "code",
   "execution_count": 80,
   "id": "92171c34",
   "metadata": {},
   "outputs": [],
   "source": [
    "x_val_data = vectorizer.transform(val_features)"
   ]
  },
  {
   "cell_type": "code",
   "execution_count": 81,
   "id": "5e8c8c06",
   "metadata": {},
   "outputs": [
    {
     "name": "stdout",
     "output_type": "stream",
     "text": [
      "(990113, 525)\n",
      "(990113,)\n"
     ]
    }
   ],
   "source": [
    "print(x_val_data.shape)\n",
    "print(y_val_data.shape)"
   ]
  },
  {
   "cell_type": "code",
   "execution_count": 82,
   "id": "65537364",
   "metadata": {},
   "outputs": [
    {
     "name": "stdout",
     "output_type": "stream",
     "text": [
      "RMSE train = 11.01428322486305\n"
     ]
    }
   ],
   "source": [
    "y_val_pred = reg.predict(x_val_data)\n",
    "print(\"RMSE train =\", mean_squared_error(y_val_data, y_val_pred, squared=False))"
   ]
  },
  {
   "cell_type": "code",
   "execution_count": null,
   "id": "30c6b797",
   "metadata": {},
   "outputs": [],
   "source": []
  }
 ],
 "metadata": {
  "kernelspec": {
   "display_name": "venv",
   "language": "python",
   "name": "venv"
  },
  "language_info": {
   "codemirror_mode": {
    "name": "ipython",
    "version": 3
   },
   "file_extension": ".py",
   "mimetype": "text/x-python",
   "name": "python",
   "nbconvert_exporter": "python",
   "pygments_lexer": "ipython3",
   "version": "3.7.3"
  }
 },
 "nbformat": 4,
 "nbformat_minor": 5
}
